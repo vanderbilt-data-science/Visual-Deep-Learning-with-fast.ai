{
 "cells": [
  {
   "cell_type": "markdown",
   "id": "1d52ecf6",
   "metadata": {},
   "source": [
    "# Getting Access to the Files"
   ]
  },
  {
   "cell_type": "markdown",
   "id": "8d1794b0",
   "metadata": {},
   "source": [
    "To be able to work with the files, each person needs them in their own local Google Drive. To do this, follow the instructions below:\n",
    "\n",
    "Please run the code in this notebook ONLY after opening it in Colab"
   ]
  },
  {
   "cell_type": "markdown",
   "id": "a25d2071",
   "metadata": {},
   "source": [
    " First, click the link:\n",
    " \n",
    " https://drive.google.com/drive/folders/1fmj78-q6ZLuiHxQVWxEi5Hlqj7NlouAc?usp=sharing\n",
    " \n",
    " to have the folder shared with you. You should then be able to go to Google Drive, click the 'Shared with Me' tab on the left, and see the folder 'artifact_images'.\n",
    " \n",
    " Next, right click this folder and click 'Add shortcut to Drive'"
   ]
  },
  {
   "cell_type": "markdown",
   "id": "a0c308d4",
   "metadata": {},
   "source": [
    "Now we need to mount our Google Drive to Colab. To do this, run the code below:"
   ]
  },
  {
   "cell_type": "code",
   "execution_count": null,
   "id": "160093c6",
   "metadata": {},
   "outputs": [],
   "source": [
    "from google.colab import drive\n",
    "drive.mount('/drive')"
   ]
  },
  {
   "cell_type": "markdown",
   "id": "09a9912c",
   "metadata": {},
   "source": [
    "Running this code will give you a link to sign in, and then will provide you a long access code. Copy the code into the box that the code block provides, and your Google Drive will be mounted to Colab"
   ]
  },
  {
   "cell_type": "code",
   "execution_count": null,
   "id": "1542f1b9",
   "metadata": {},
   "outputs": [],
   "source": [
    "# Next, run this code and copy the output to your clipboard\n",
    "%cd drive/My Drive/artifact_images"
   ]
  },
  {
   "cell_type": "code",
   "execution_count": null,
   "id": "3214a99b",
   "metadata": {},
   "outputs": [],
   "source": [
    "pwd"
   ]
  },
  {
   "cell_type": "code",
   "execution_count": null,
   "id": "6bac51b3",
   "metadata": {},
   "outputs": [],
   "source": [
    "# Syntax: !cp -r 'above-copy-path/.' '/drive/My Drive/destinantion-path'\n",
    "# Replace 'above-copy-path/.' with the path above from the previous block\n",
    "\n",
    "!cp -r 'above-copy-path/.' '/drive/My Drive/artifact_images'"
   ]
  },
  {
   "cell_type": "markdown",
   "id": "15e51dcf",
   "metadata": {},
   "source": [
    "If the process was successful, you should now see a folder in your Google Drive called artifact_images that contains two sub-folders full of images."
   ]
  }
 ],
 "metadata": {
  "kernelspec": {
   "display_name": "Python 3",
   "language": "python",
   "name": "python3"
  },
  "language_info": {
   "codemirror_mode": {
    "name": "ipython",
    "version": 3
   },
   "file_extension": ".py",
   "mimetype": "text/x-python",
   "name": "python",
   "nbconvert_exporter": "python",
   "pygments_lexer": "ipython3",
   "version": "3.7.9"
  }
 },
 "nbformat": 4,
 "nbformat_minor": 5
}
